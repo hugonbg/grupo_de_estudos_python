Vamos utilizar o Anaconda durante o nosso curso.

O Anaconda é um software que agrega um conjunto de softwares e bibliotecas Python e que é de fácil instalação e configuração, permitindo ter
um ambiente pronto para desenvolvimento Python em poucos cliques. Tem as principais bibliotecas Python por padrão e mais de 6 milhões de usuários
no mundo.


