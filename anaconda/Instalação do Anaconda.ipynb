{
 "cells": [
  {
   "cell_type": "markdown",
   "metadata": {},
   "source": [
    "Vamos utilizar o Anaconda (https://anaconda.org/) durante o nosso curso.\n",
    "\n",
    "O Anaconda é um software(distribuição) que agrega um conjunto de softwares e bibliotecas Python e que é de fácil instalação e configuração, permitindo ter\n",
    "um ambiente pronto para desenvolvimento Python em poucos cliques. Tem as principais bibliotecas Python por padrão e mais de 6 milhões de usuários\n",
    "no mundo.\n"
   ]
  },
  {
   "cell_type": "markdown",
   "metadata": {},
   "source": [
    "![title](img/anaconda.png)"
   ]
  },
  {
   "cell_type": "markdown",
   "metadata": {},
   "source": [
    "### **Download do Anaconda:** ###\n",
    "\n",
    "\n",
    "Acessar: https://www.anaconda.com/download/\n",
    "\n",
    "Selecionar a versão para o seu sitema operacional: 32 ou 64bits (caso não saiba, use a de 32bits)\n",
    "\n",
    "![anaconda_install.png](img/anaconda_install.png)\n",
    "\n"
   ]
  },
  {
   "cell_type": "markdown",
   "metadata": {},
   "source": [
    "Quem usa Linux ou Mac, é só selecionar o seu sistema operacional:\n",
    "    \n",
    "![title](img/anaconda_01.jpg)\n",
    "\n",
    "O restante da instalação é igual para todos os sistemas operacionais.\n",
    "\n"
   ]
  },
  {
   "cell_type": "markdown",
   "metadata": {},
   "source": [
    "O download irá iniciar (não precisa prencher o cadastro que aparece). Pode ser que demore um pouco, são 630mb.   "
   ]
  },
  {
   "cell_type": "markdown",
   "metadata": {},
   "source": [
    "###  Instalação do Anaconda:  ###"
   ]
  },
  {
   "cell_type": "markdown",
   "metadata": {},
   "source": [
    "Execute o instalador a partir da pasta onde você salvou o arquivo:"
   ]
  },
  {
   "cell_type": "markdown",
   "metadata": {},
   "source": [
    "![img/anaconda_1.jpg](img/anaconda_1.jpg)\n"
   ]
  },
  {
   "cell_type": "markdown",
   "metadata": {},
   "source": [
    "![title](img/anaconda_2.jpg) \n"
   ]
  },
  {
   "cell_type": "markdown",
   "metadata": {},
   "source": [
    "![img/anaconda_3.jpg](img/anaconda_3.jpg) \n"
   ]
  },
  {
   "cell_type": "markdown",
   "metadata": {},
   "source": [
    "###  Atenção!  ### \n",
    "Aqui mude o caminho para **C:\\Anaconda3** \n",
    "Assim evitamos qualquer problema posterior com espaços em branco no nome dos arquivos:\n",
    "\n",
    "![title](img/anaconda_4.jpg) \n"
   ]
  },
  {
   "cell_type": "markdown",
   "metadata": {},
   "source": [
    "Aqui deixe marcado apenas a segunda opção para evitar conflitos com outros softwares instalados:\n",
    "\n",
    "![title](img/anaconda_5.jpg) \n"
   ]
  },
  {
   "cell_type": "markdown",
   "metadata": {},
   "source": [
    "A instalação irá começar, pode ser que demore um poucos, cerca de 15min dependendo do computador:\n",
    "\n",
    "![title](img/anaconda_6.jpg) \n"
   ]
  },
  {
   "cell_type": "markdown",
   "metadata": {},
   "source": [
    "Clique em next:\n",
    "\n",
    "![title](img/anaconda_7.jpg) "
   ]
  },
  {
   "cell_type": "markdown",
   "metadata": {},
   "source": [
    "Clique no skip pois não vamos usar o Visual Studio:\n",
    "\n",
    "![title](img/anaconda_8.jpg) "
   ]
  },
  {
   "cell_type": "code",
   "execution_count": null,
   "metadata": {},
   "outputs": [],
   "source": [
    "Desmarque as duas caixinhas e clique em finalizar:\n",
    "\n",
    "![title](img/anaconda_9.jpg) "
   ]
  },
  {
   "cell_type": "code",
   "execution_count": null,
   "metadata": {},
   "outputs": [],
   "source": []
  },
  {
   "cell_type": "markdown",
   "metadata": {},
   "source": []
  }
 ],
 "metadata": {
  "kernelspec": {
   "display_name": "Python 3",
   "language": "python",
   "name": "python3"
  },
  "language_info": {
   "codemirror_mode": {
    "name": "ipython",
    "version": 3
   },
   "file_extension": ".py",
   "mimetype": "text/x-python",
   "name": "python",
   "nbconvert_exporter": "python",
   "pygments_lexer": "ipython3",
   "version": "3.6.4"
  }
 },
 "nbformat": 4,
 "nbformat_minor": 2
}
