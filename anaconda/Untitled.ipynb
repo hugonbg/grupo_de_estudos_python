{
 "cells": [
  {
   "cell_type": "markdown",
   "metadata": {},
   "source": [
    "Clique:\n",
    "\n",
    "![image1](/img/anaconda.png)"
   ]
  },
  {
   "cell_type": "markdown",
   "metadata": {},
   "source": [
    "![image2](/img/anaconda_2.jpg?raw=true)\n",
    "![image3](/img/anaconda_1.jpg?raw=true)\n",
    "![image4](/img/anaconda9.jpg)\n",
    "![image5](/img/ninja.png)"
   ]
  }
 ],
 "metadata": {
  "kernelspec": {
   "display_name": "Python 3",
   "language": "python",
   "name": "python3"
  },
  "language_info": {
   "codemirror_mode": {
    "name": "ipython",
    "version": 3
   },
   "file_extension": ".py",
   "mimetype": "text/x-python",
   "name": "python",
   "nbconvert_exporter": "python",
   "pygments_lexer": "ipython3",
   "version": "3.6.4"
  }
 },
 "nbformat": 4,
 "nbformat_minor": 2
}
