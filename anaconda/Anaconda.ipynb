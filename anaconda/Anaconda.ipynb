{
 "cells": [
  {
   "cell_type": "markdown",
   "metadata": {},
   "source": [
    "Vamos utilizar o Anaconda(https://anaconda.org/) durante o nosso curso.\n",
    "\n",
    "O Anaconda é um software que agrega um conjunto de softwares e bibliotecas Python e que é de fácil instalação e configuração, permitindo ter\n",
    "um ambiente pronto para desenvolvimento Python em poucos cliques. Tem as principais bibliotecas Python por padrão e mais de 6 milhões de usuários\n",
    "no mundo.\n"
   ]
  },
  {
   "attachments": {},
   "cell_type": "markdown",
   "metadata": {},
   "source": [
    "![title](img/anaconda.png)"
   ]
  },
  {
   "attachments": {},
   "cell_type": "markdown",
   "metadata": {},
   "source": [
    "Instalação do Anaconda:\n",
    "\n",
    "Acessar: https://www.anaconda.com/download/\n",
    "\n",
    "Selecionar a versão para o seu sitema operacional: 32 ou 64bits (caso não saiba, use a de 32bits)\n",
    "\n",
    "![anaconda_install.png](img/anaconda_install.png)\n",
    "\n",
    "O download irá iniciar (não precisa prencher o cadastro que aparece). Pode ser que demore um pouco, são 630mb."
   ]
  }
 ],
 "metadata": {
  "kernelspec": {
   "display_name": "Python 3",
   "language": "python",
   "name": "python3"
  },
  "language_info": {
   "codemirror_mode": {
    "name": "ipython",
    "version": 3
   },
   "file_extension": ".py",
   "mimetype": "text/x-python",
   "name": "python",
   "nbconvert_exporter": "python",
   "pygments_lexer": "ipython3",
   "version": "3.6.4"
  }
 },
 "nbformat": 4,
 "nbformat_minor": 2
}
