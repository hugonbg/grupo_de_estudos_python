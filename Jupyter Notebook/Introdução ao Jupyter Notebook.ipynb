{
 "cells": [
  {
   "cell_type": "markdown",
   "metadata": {},
   "source": [
    "Durante o nosso curso vamos utilizar o Jupyter Notebook!\n",
    "\n",
    "Para iniciar o Jupyter, vá no \"Menu Iniciar\" > Anaconda > Jupyter Notebook:\n",
    "\n",
    "![Jupyter](img/jupyter01.png)"
   ]
  },
  {
   "cell_type": "markdown",
   "metadata": {},
   "source": [
    "Duas coisas devem acontecer:"
   ]
  },
  {
   "cell_type": "markdown",
   "metadata": {},
   "source": [
    "Irá abrir uma janela de prompt(\"janelinha preta\")\n",
    "![prompt de comando](img/jupyter02.png)"
   ]
  },
  {
   "cell_type": "markdown",
   "metadata": {},
   "source": [
    "e também será aberta uma aba no seu navegador:\n",
    "![navegador](img/jupyter03.png)"
   ]
  },
  {
   "cell_type": "markdown",
   "metadata": {},
   "source": [
    "Na primeira vez que que executamos o Jupyter Notebook, precisamos efetuar a autenticação por motivos de segurança, para isso compiamos o link que \n",
    "ele nos fornece no prompt(janelinha preta) e colamos no navegador:"
   ]
  },
  {
   "cell_type": "markdown",
   "metadata": {},
   "source": [
    "![copiar chave](img/jupyter04.png)"
   ]
  },
  {
   "cell_type": "markdown",
   "metadata": {},
   "source": [
    "Em seguida colamos a chave que copiamos no navegador:"
   ]
  },
  {
   "cell_type": "markdown",
   "metadata": {},
   "source": [
    "![colar chave](img/jupyter05.png)"
   ]
  },
  {
   "cell_type": "markdown",
   "metadata": {},
   "source": [
    "Pronto! o Jupyter está pronto para uso!\n",
    "\n",
    "*** Atenção, não feche o prompt (janelinha preta), pq senão o Jupyter Notebook será encerrado.***"
   ]
  },
  {
   "cell_type": "markdown",
   "metadata": {},
   "source": [
    "Agora, vamos criar a pasta onde vamos guardar nossos códigos."
   ]
  },
  {
   "cell_type": "markdown",
   "metadata": {},
   "source": [
    "Clique no botão \"New\" e em seguida \"Folder\":\n",
    "\n",
    "![criar pasta](img/jupyter07.png)"
   ]
  },
  {
   "cell_type": "markdown",
   "metadata": {},
   "source": [
    "Marque a caixinha em frente ao \"Untitled Folder\" e em seguida clique em \"Rename\"\n",
    "![renomeando](img/jupyter06.png)"
   ]
  },
  {
   "cell_type": "markdown",
   "metadata": {},
   "source": [
    "Agora apague o \"Untitled Folder\",coloque o seu nome no lugar e clique em \"Rename\".\n",
    "![renomeando](img/jupyter08.png)"
   ]
  },
  {
   "cell_type": "markdown",
   "metadata": {},
   "source": [
    "Agora entramos na pasta que renomeamos:\n",
    "![entrando na pasta](img/jupyter09.png)"
   ]
  },
  {
   "cell_type": "markdown",
   "metadata": {},
   "source": [
    "Pronto, nossa pasta está pronta:\n",
    "![pasta criada](img/jupyter10.png)"
   ]
  },
  {
   "cell_type": "markdown",
   "metadata": {},
   "source": [
    "Para mais informações sobre o Jupyter, veja o vídeo abaixo:"
   ]
  },
  {
   "cell_type": "markdown",
   "metadata": {},
   "source": [
    "[Introdução ao Jupyter](https://www.youtube.com/watch?v=KbacwL42zBw)"
   ]
  }
 ],
 "metadata": {
  "kernelspec": {
   "display_name": "Python 3",
   "language": "python",
   "name": "python3"
  },
  "language_info": {
   "codemirror_mode": {
    "name": "ipython",
    "version": 3
   },
   "file_extension": ".py",
   "mimetype": "text/x-python",
   "name": "python",
   "nbconvert_exporter": "python",
   "pygments_lexer": "ipython3",
   "version": "3.6.4"
  }
 },
 "nbformat": 4,
 "nbformat_minor": 2
}
