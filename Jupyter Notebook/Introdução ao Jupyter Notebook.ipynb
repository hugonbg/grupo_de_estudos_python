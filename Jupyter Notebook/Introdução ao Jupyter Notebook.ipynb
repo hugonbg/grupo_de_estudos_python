{
 "cells": [
  {
   "cell_type": "markdown",
   "metadata": {},
   "source": [
    "Para mais informações sobre o Jupyter, clique na imagem:"
   ]
  },
  {
   "cell_type": "markdown",
   "metadata": {},
   "source": [
    "[![Introdução ao Jupyter](https://img.youtube.com/vi/KbacwL42zBw/0.jpg)](https://www.youtube.com/watch?v=KbacwL42zBw)"
   ]
  }
 ],
 "metadata": {
  "kernelspec": {
   "display_name": "Python 3",
   "language": "python",
   "name": "python3"
  },
  "language_info": {
   "codemirror_mode": {
    "name": "ipython",
    "version": 3
   },
   "file_extension": ".py",
   "mimetype": "text/x-python",
   "name": "python",
   "nbconvert_exporter": "python",
   "pygments_lexer": "ipython3",
   "version": "3.6.4"
  }
 },
 "nbformat": 4,
 "nbformat_minor": 2
}
