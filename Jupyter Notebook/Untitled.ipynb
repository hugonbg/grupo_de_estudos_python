{
 "cells": [
  {
   "cell_type": "markdown",
   "metadata": {},
   "source": [
    "## What?\n",
    "\n",
    "***Remote working*** means getting your work done ***without*** a ***fixed location***.\n",
    "\n",
    "37Signals made a great video illustrating their remote working culture: https://vimeo.com/76063825\n",
    "[![Remote working vimeo](http://i.imgur.com/OcPhNug.png)](https://vimeo.com/76063825 \"Remote Working - Click to Watch!\")"
   ]
  },
  {
   "cell_type": "markdown",
   "metadata": {},
   "source": [
    "### How effective are people in your office at getting their work done?\n",
    "\n",
    "The *productive* office is the *exception* not the rule. Offices are great for catching up with your colleagues and having meetings but *statistically* not the place people go to get their best work done.\n",
    "\n",
    "***Watch*** Jason Fried: Why ***work doesn't happen at work***: https://youtu.be/5XD2kNopsUs\n",
    "[![work doesn't happen at work](http://i.imgur.com/ASYsjjX.png)](https://youtu.be/5XD2kNopsUs?t=16s \"Meetings and Managers - Click to Watch!\")\n",
    "\n",
    "and if you don't identify with what he is saying, close this window and enjoy the rest of your day.  \n",
    "For the rest of us who have felt the pain of working in a noisy environment where constant interruptions prevent meaningful progress, read on.\n",
    "\n",
    "What if there was a better way to get work done?"
   ]
  },
  {
   "cell_type": "code",
   "execution_count": 1,
   "metadata": {},
   "outputs": [
    {
     "data": {
      "text/html": [
       "<iframe src=\"https://player.vimeo.com/video/26763844?title=0&byline=0&portrait=0\" width=\"700\" height=\"394\" frameborder=\"0\" webkitallowfullscreen mozallowfullscreen allowfullscreen></iframe><p><a href=\"https://vimeo.com/26763844\">BAXTER DURY - CLAIRE (Dir Cut)</a> from <a href=\"https://vimeo.com/dannysangra\">Danny Sangra</a> on <a href=\"https://vimeo.com\">Vimeo</a>.</p>"
      ],
      "text/plain": [
       "<IPython.core.display.HTML object>"
      ]
     },
     "execution_count": 1,
     "metadata": {},
     "output_type": "execute_result"
    }
   ],
   "source": [
    "from IPython.display import HTML\n",
    "\n",
    "# Youtube\n",
    "HTML('<iframe width=\"560\" height=\"315\" src=\"https://www.youtube.com/embed/S_f2qV2_U00?rel=0&amp;controls=0&amp;showinfo=0\" frameborder=\"0\" allowfullscreen></iframe>')\n",
    "\n",
    "# Vimeo\n",
    "HTML('<iframe src=\"https://player.vimeo.com/video/26763844?title=0&byline=0&portrait=0\" width=\"700\" height=\"394\" frameborder=\"0\" webkitallowfullscreen mozallowfullscreen allowfullscreen></iframe><p><a href=\"https://vimeo.com/26763844\">BAXTER DURY - CLAIRE (Dir Cut)</a> from <a href=\"https://vimeo.com/dannysangra\">Danny Sangra</a> on <a href=\"https://vimeo.com\">Vimeo</a>.</p>')\n"
   ]
  },
  {
   "cell_type": "code",
   "execution_count": null,
   "metadata": {},
   "outputs": [],
   "source": []
  }
 ],
 "metadata": {
  "kernelspec": {
   "display_name": "Python 3",
   "language": "python",
   "name": "python3"
  },
  "language_info": {
   "codemirror_mode": {
    "name": "ipython",
    "version": 3
   },
   "file_extension": ".py",
   "mimetype": "text/x-python",
   "name": "python",
   "nbconvert_exporter": "python",
   "pygments_lexer": "ipython3",
   "version": "3.6.4"
  }
 },
 "nbformat": 4,
 "nbformat_minor": 2
}
